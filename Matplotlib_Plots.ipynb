{
  "nbformat": 4,
  "nbformat_minor": 0,
  "metadata": {
    "colab": {
      "provenance": [],
      "authorship_tag": "ABX9TyMa6Spfa0rGl/U3kFlPODM0",
      "include_colab_link": true
    },
    "kernelspec": {
      "name": "python3",
      "display_name": "Python 3"
    },
    "language_info": {
      "name": "python"
    }
  },
  "cells": [
    {
      "cell_type": "markdown",
      "metadata": {
        "id": "view-in-github",
        "colab_type": "text"
      },
      "source": [
        "<a href=\"https://colab.research.google.com/github/KVenkataPavani/Matplotlib_project/blob/main/Matplotlib_Plots.ipynb\" target=\"_parent\"><img src=\"https://colab.research.google.com/assets/colab-badge.svg\" alt=\"Open In Colab\"/></a>"
      ]
    },
    {
      "cell_type": "markdown",
      "source": [
        "#**Sales Data Visualization**"
      ],
      "metadata": {
        "id": "ByMon65EQj7h"
      }
    },
    {
      "cell_type": "code",
      "source": [
        "import pandas as pd\n"
      ],
      "metadata": {
        "id": "SJNLmXuzQqQV"
      },
      "execution_count": 1,
      "outputs": []
    },
    {
      "cell_type": "code",
      "source": [
        "data = pd.read_csv(\"sales_data.csv\")\n",
        "data.head(5)"
      ],
      "metadata": {
        "colab": {
          "base_uri": "https://localhost:8080/",
          "height": 206
        },
        "id": "sjfCheKqQxuC",
        "outputId": "0733ec2f-3068-43ea-f9b3-c26dffe66e29"
      },
      "execution_count": 4,
      "outputs": [
        {
          "output_type": "execute_result",
          "data": {
            "text/plain": [
              "   Transaction ID        Date Product Category             Product Name  \\\n",
              "0           10001  2024-01-01      Electronics            iPhone 14 Pro   \n",
              "1           10002  2024-01-02  Home Appliances         Dyson V11 Vacuum   \n",
              "2           10003  2024-01-03         Clothing         Levi's 501 Jeans   \n",
              "3           10004  2024-01-04            Books        The Da Vinci Code   \n",
              "4           10005  2024-01-05  Beauty Products  Neutrogena Skincare Set   \n",
              "\n",
              "   Units Sold  Unit Price  Total Revenue         Region Payment Method  \n",
              "0           2      999.99        1999.98  North America    Credit Card  \n",
              "1           1      499.99         499.99         Europe         PayPal  \n",
              "2           3       69.99         209.97           Asia     Debit Card  \n",
              "3           4       15.99          63.96  North America    Credit Card  \n",
              "4           1       89.99          89.99         Europe         PayPal  "
            ],
            "text/html": [
              "\n",
              "  <div id=\"df-6bcaaeed-045f-45f4-a0d9-f5da5ed5ff1d\" class=\"colab-df-container\">\n",
              "    <div>\n",
              "<style scoped>\n",
              "    .dataframe tbody tr th:only-of-type {\n",
              "        vertical-align: middle;\n",
              "    }\n",
              "\n",
              "    .dataframe tbody tr th {\n",
              "        vertical-align: top;\n",
              "    }\n",
              "\n",
              "    .dataframe thead th {\n",
              "        text-align: right;\n",
              "    }\n",
              "</style>\n",
              "<table border=\"1\" class=\"dataframe\">\n",
              "  <thead>\n",
              "    <tr style=\"text-align: right;\">\n",
              "      <th></th>\n",
              "      <th>Transaction ID</th>\n",
              "      <th>Date</th>\n",
              "      <th>Product Category</th>\n",
              "      <th>Product Name</th>\n",
              "      <th>Units Sold</th>\n",
              "      <th>Unit Price</th>\n",
              "      <th>Total Revenue</th>\n",
              "      <th>Region</th>\n",
              "      <th>Payment Method</th>\n",
              "    </tr>\n",
              "  </thead>\n",
              "  <tbody>\n",
              "    <tr>\n",
              "      <th>0</th>\n",
              "      <td>10001</td>\n",
              "      <td>2024-01-01</td>\n",
              "      <td>Electronics</td>\n",
              "      <td>iPhone 14 Pro</td>\n",
              "      <td>2</td>\n",
              "      <td>999.99</td>\n",
              "      <td>1999.98</td>\n",
              "      <td>North America</td>\n",
              "      <td>Credit Card</td>\n",
              "    </tr>\n",
              "    <tr>\n",
              "      <th>1</th>\n",
              "      <td>10002</td>\n",
              "      <td>2024-01-02</td>\n",
              "      <td>Home Appliances</td>\n",
              "      <td>Dyson V11 Vacuum</td>\n",
              "      <td>1</td>\n",
              "      <td>499.99</td>\n",
              "      <td>499.99</td>\n",
              "      <td>Europe</td>\n",
              "      <td>PayPal</td>\n",
              "    </tr>\n",
              "    <tr>\n",
              "      <th>2</th>\n",
              "      <td>10003</td>\n",
              "      <td>2024-01-03</td>\n",
              "      <td>Clothing</td>\n",
              "      <td>Levi's 501 Jeans</td>\n",
              "      <td>3</td>\n",
              "      <td>69.99</td>\n",
              "      <td>209.97</td>\n",
              "      <td>Asia</td>\n",
              "      <td>Debit Card</td>\n",
              "    </tr>\n",
              "    <tr>\n",
              "      <th>3</th>\n",
              "      <td>10004</td>\n",
              "      <td>2024-01-04</td>\n",
              "      <td>Books</td>\n",
              "      <td>The Da Vinci Code</td>\n",
              "      <td>4</td>\n",
              "      <td>15.99</td>\n",
              "      <td>63.96</td>\n",
              "      <td>North America</td>\n",
              "      <td>Credit Card</td>\n",
              "    </tr>\n",
              "    <tr>\n",
              "      <th>4</th>\n",
              "      <td>10005</td>\n",
              "      <td>2024-01-05</td>\n",
              "      <td>Beauty Products</td>\n",
              "      <td>Neutrogena Skincare Set</td>\n",
              "      <td>1</td>\n",
              "      <td>89.99</td>\n",
              "      <td>89.99</td>\n",
              "      <td>Europe</td>\n",
              "      <td>PayPal</td>\n",
              "    </tr>\n",
              "  </tbody>\n",
              "</table>\n",
              "</div>\n",
              "    <div class=\"colab-df-buttons\">\n",
              "\n",
              "  <div class=\"colab-df-container\">\n",
              "    <button class=\"colab-df-convert\" onclick=\"convertToInteractive('df-6bcaaeed-045f-45f4-a0d9-f5da5ed5ff1d')\"\n",
              "            title=\"Convert this dataframe to an interactive table.\"\n",
              "            style=\"display:none;\">\n",
              "\n",
              "  <svg xmlns=\"http://www.w3.org/2000/svg\" height=\"24px\" viewBox=\"0 -960 960 960\">\n",
              "    <path d=\"M120-120v-720h720v720H120Zm60-500h600v-160H180v160Zm220 220h160v-160H400v160Zm0 220h160v-160H400v160ZM180-400h160v-160H180v160Zm440 0h160v-160H620v160ZM180-180h160v-160H180v160Zm440 0h160v-160H620v160Z\"/>\n",
              "  </svg>\n",
              "    </button>\n",
              "\n",
              "  <style>\n",
              "    .colab-df-container {\n",
              "      display:flex;\n",
              "      gap: 12px;\n",
              "    }\n",
              "\n",
              "    .colab-df-convert {\n",
              "      background-color: #E8F0FE;\n",
              "      border: none;\n",
              "      border-radius: 50%;\n",
              "      cursor: pointer;\n",
              "      display: none;\n",
              "      fill: #1967D2;\n",
              "      height: 32px;\n",
              "      padding: 0 0 0 0;\n",
              "      width: 32px;\n",
              "    }\n",
              "\n",
              "    .colab-df-convert:hover {\n",
              "      background-color: #E2EBFA;\n",
              "      box-shadow: 0px 1px 2px rgba(60, 64, 67, 0.3), 0px 1px 3px 1px rgba(60, 64, 67, 0.15);\n",
              "      fill: #174EA6;\n",
              "    }\n",
              "\n",
              "    .colab-df-buttons div {\n",
              "      margin-bottom: 4px;\n",
              "    }\n",
              "\n",
              "    [theme=dark] .colab-df-convert {\n",
              "      background-color: #3B4455;\n",
              "      fill: #D2E3FC;\n",
              "    }\n",
              "\n",
              "    [theme=dark] .colab-df-convert:hover {\n",
              "      background-color: #434B5C;\n",
              "      box-shadow: 0px 1px 3px 1px rgba(0, 0, 0, 0.15);\n",
              "      filter: drop-shadow(0px 1px 2px rgba(0, 0, 0, 0.3));\n",
              "      fill: #FFFFFF;\n",
              "    }\n",
              "  </style>\n",
              "\n",
              "    <script>\n",
              "      const buttonEl =\n",
              "        document.querySelector('#df-6bcaaeed-045f-45f4-a0d9-f5da5ed5ff1d button.colab-df-convert');\n",
              "      buttonEl.style.display =\n",
              "        google.colab.kernel.accessAllowed ? 'block' : 'none';\n",
              "\n",
              "      async function convertToInteractive(key) {\n",
              "        const element = document.querySelector('#df-6bcaaeed-045f-45f4-a0d9-f5da5ed5ff1d');\n",
              "        const dataTable =\n",
              "          await google.colab.kernel.invokeFunction('convertToInteractive',\n",
              "                                                    [key], {});\n",
              "        if (!dataTable) return;\n",
              "\n",
              "        const docLinkHtml = 'Like what you see? Visit the ' +\n",
              "          '<a target=\"_blank\" href=https://colab.research.google.com/notebooks/data_table.ipynb>data table notebook</a>'\n",
              "          + ' to learn more about interactive tables.';\n",
              "        element.innerHTML = '';\n",
              "        dataTable['output_type'] = 'display_data';\n",
              "        await google.colab.output.renderOutput(dataTable, element);\n",
              "        const docLink = document.createElement('div');\n",
              "        docLink.innerHTML = docLinkHtml;\n",
              "        element.appendChild(docLink);\n",
              "      }\n",
              "    </script>\n",
              "  </div>\n",
              "\n",
              "\n",
              "<div id=\"df-e3cc0a73-f84b-4b3f-91db-9b018d79fabc\">\n",
              "  <button class=\"colab-df-quickchart\" onclick=\"quickchart('df-e3cc0a73-f84b-4b3f-91db-9b018d79fabc')\"\n",
              "            title=\"Suggest charts\"\n",
              "            style=\"display:none;\">\n",
              "\n",
              "<svg xmlns=\"http://www.w3.org/2000/svg\" height=\"24px\"viewBox=\"0 0 24 24\"\n",
              "     width=\"24px\">\n",
              "    <g>\n",
              "        <path d=\"M19 3H5c-1.1 0-2 .9-2 2v14c0 1.1.9 2 2 2h14c1.1 0 2-.9 2-2V5c0-1.1-.9-2-2-2zM9 17H7v-7h2v7zm4 0h-2V7h2v10zm4 0h-2v-4h2v4z\"/>\n",
              "    </g>\n",
              "</svg>\n",
              "  </button>\n",
              "\n",
              "<style>\n",
              "  .colab-df-quickchart {\n",
              "      --bg-color: #E8F0FE;\n",
              "      --fill-color: #1967D2;\n",
              "      --hover-bg-color: #E2EBFA;\n",
              "      --hover-fill-color: #174EA6;\n",
              "      --disabled-fill-color: #AAA;\n",
              "      --disabled-bg-color: #DDD;\n",
              "  }\n",
              "\n",
              "  [theme=dark] .colab-df-quickchart {\n",
              "      --bg-color: #3B4455;\n",
              "      --fill-color: #D2E3FC;\n",
              "      --hover-bg-color: #434B5C;\n",
              "      --hover-fill-color: #FFFFFF;\n",
              "      --disabled-bg-color: #3B4455;\n",
              "      --disabled-fill-color: #666;\n",
              "  }\n",
              "\n",
              "  .colab-df-quickchart {\n",
              "    background-color: var(--bg-color);\n",
              "    border: none;\n",
              "    border-radius: 50%;\n",
              "    cursor: pointer;\n",
              "    display: none;\n",
              "    fill: var(--fill-color);\n",
              "    height: 32px;\n",
              "    padding: 0;\n",
              "    width: 32px;\n",
              "  }\n",
              "\n",
              "  .colab-df-quickchart:hover {\n",
              "    background-color: var(--hover-bg-color);\n",
              "    box-shadow: 0 1px 2px rgba(60, 64, 67, 0.3), 0 1px 3px 1px rgba(60, 64, 67, 0.15);\n",
              "    fill: var(--button-hover-fill-color);\n",
              "  }\n",
              "\n",
              "  .colab-df-quickchart-complete:disabled,\n",
              "  .colab-df-quickchart-complete:disabled:hover {\n",
              "    background-color: var(--disabled-bg-color);\n",
              "    fill: var(--disabled-fill-color);\n",
              "    box-shadow: none;\n",
              "  }\n",
              "\n",
              "  .colab-df-spinner {\n",
              "    border: 2px solid var(--fill-color);\n",
              "    border-color: transparent;\n",
              "    border-bottom-color: var(--fill-color);\n",
              "    animation:\n",
              "      spin 1s steps(1) infinite;\n",
              "  }\n",
              "\n",
              "  @keyframes spin {\n",
              "    0% {\n",
              "      border-color: transparent;\n",
              "      border-bottom-color: var(--fill-color);\n",
              "      border-left-color: var(--fill-color);\n",
              "    }\n",
              "    20% {\n",
              "      border-color: transparent;\n",
              "      border-left-color: var(--fill-color);\n",
              "      border-top-color: var(--fill-color);\n",
              "    }\n",
              "    30% {\n",
              "      border-color: transparent;\n",
              "      border-left-color: var(--fill-color);\n",
              "      border-top-color: var(--fill-color);\n",
              "      border-right-color: var(--fill-color);\n",
              "    }\n",
              "    40% {\n",
              "      border-color: transparent;\n",
              "      border-right-color: var(--fill-color);\n",
              "      border-top-color: var(--fill-color);\n",
              "    }\n",
              "    60% {\n",
              "      border-color: transparent;\n",
              "      border-right-color: var(--fill-color);\n",
              "    }\n",
              "    80% {\n",
              "      border-color: transparent;\n",
              "      border-right-color: var(--fill-color);\n",
              "      border-bottom-color: var(--fill-color);\n",
              "    }\n",
              "    90% {\n",
              "      border-color: transparent;\n",
              "      border-bottom-color: var(--fill-color);\n",
              "    }\n",
              "  }\n",
              "</style>\n",
              "\n",
              "  <script>\n",
              "    async function quickchart(key) {\n",
              "      const quickchartButtonEl =\n",
              "        document.querySelector('#' + key + ' button');\n",
              "      quickchartButtonEl.disabled = true;  // To prevent multiple clicks.\n",
              "      quickchartButtonEl.classList.add('colab-df-spinner');\n",
              "      try {\n",
              "        const charts = await google.colab.kernel.invokeFunction(\n",
              "            'suggestCharts', [key], {});\n",
              "      } catch (error) {\n",
              "        console.error('Error during call to suggestCharts:', error);\n",
              "      }\n",
              "      quickchartButtonEl.classList.remove('colab-df-spinner');\n",
              "      quickchartButtonEl.classList.add('colab-df-quickchart-complete');\n",
              "    }\n",
              "    (() => {\n",
              "      let quickchartButtonEl =\n",
              "        document.querySelector('#df-e3cc0a73-f84b-4b3f-91db-9b018d79fabc button');\n",
              "      quickchartButtonEl.style.display =\n",
              "        google.colab.kernel.accessAllowed ? 'block' : 'none';\n",
              "    })();\n",
              "  </script>\n",
              "</div>\n",
              "\n",
              "    </div>\n",
              "  </div>\n"
            ],
            "application/vnd.google.colaboratory.intrinsic+json": {
              "type": "dataframe",
              "variable_name": "data",
              "summary": "{\n  \"name\": \"data\",\n  \"rows\": 240,\n  \"fields\": [\n    {\n      \"column\": \"Transaction ID\",\n      \"properties\": {\n        \"dtype\": \"number\",\n        \"std\": 69,\n        \"min\": 10001,\n        \"max\": 10240,\n        \"num_unique_values\": 240,\n        \"samples\": [\n          10025,\n          10007,\n          10094\n        ],\n        \"semantic_type\": \"\",\n        \"description\": \"\"\n      }\n    },\n    {\n      \"column\": \"Date\",\n      \"properties\": {\n        \"dtype\": \"object\",\n        \"num_unique_values\": 240,\n        \"samples\": [\n          \"2024-01-25\",\n          \"2024-01-07\",\n          \"2024-04-03\"\n        ],\n        \"semantic_type\": \"\",\n        \"description\": \"\"\n      }\n    },\n    {\n      \"column\": \"Product Category\",\n      \"properties\": {\n        \"dtype\": \"category\",\n        \"num_unique_values\": 6,\n        \"samples\": [\n          \"Electronics\",\n          \"Home Appliances\",\n          \"Sports\"\n        ],\n        \"semantic_type\": \"\",\n        \"description\": \"\"\n      }\n    },\n    {\n      \"column\": \"Product Name\",\n      \"properties\": {\n        \"dtype\": \"string\",\n        \"num_unique_values\": 232,\n        \"samples\": [\n          \"The Ordinary Caffeine Solution 5% + EGCG\",\n          \"Samsung QLED 4K TV\",\n          \"Dune by Frank Herbert\"\n        ],\n        \"semantic_type\": \"\",\n        \"description\": \"\"\n      }\n    },\n    {\n      \"column\": \"Units Sold\",\n      \"properties\": {\n        \"dtype\": \"number\",\n        \"std\": 1,\n        \"min\": 1,\n        \"max\": 10,\n        \"num_unique_values\": 7,\n        \"samples\": [\n          2,\n          1,\n          6\n        ],\n        \"semantic_type\": \"\",\n        \"description\": \"\"\n      }\n    },\n    {\n      \"column\": \"Unit Price\",\n      \"properties\": {\n        \"dtype\": \"number\",\n        \"std\": 429.4466949104776,\n        \"min\": 6.5,\n        \"max\": 3899.99,\n        \"num_unique_values\": 117,\n        \"samples\": [\n          219.99,\n          89.99,\n          79.99\n        ],\n        \"semantic_type\": \"\",\n        \"description\": \"\"\n      }\n    },\n    {\n      \"column\": \"Total Revenue\",\n      \"properties\": {\n        \"dtype\": \"number\",\n        \"std\": 485.80446856513214,\n        \"min\": 6.5,\n        \"max\": 3899.99,\n        \"num_unique_values\": 173,\n        \"samples\": [\n          6.7,\n          130.0,\n          15.0\n        ],\n        \"semantic_type\": \"\",\n        \"description\": \"\"\n      }\n    },\n    {\n      \"column\": \"Region\",\n      \"properties\": {\n        \"dtype\": \"category\",\n        \"num_unique_values\": 3,\n        \"samples\": [\n          \"North America\",\n          \"Europe\",\n          \"Asia\"\n        ],\n        \"semantic_type\": \"\",\n        \"description\": \"\"\n      }\n    },\n    {\n      \"column\": \"Payment Method\",\n      \"properties\": {\n        \"dtype\": \"category\",\n        \"num_unique_values\": 3,\n        \"samples\": [\n          \"Credit Card\",\n          \"PayPal\",\n          \"Debit Card\"\n        ],\n        \"semantic_type\": \"\",\n        \"description\": \"\"\n      }\n    }\n  ]\n}"
            }
          },
          "metadata": {},
          "execution_count": 4
        }
      ]
    },
    {
      "cell_type": "code",
      "source": [
        "data.info()"
      ],
      "metadata": {
        "colab": {
          "base_uri": "https://localhost:8080/"
        },
        "id": "GVeFXiHSSIbz",
        "outputId": "db563f2e-8829-48df-f6e7-5cd827a6796d"
      },
      "execution_count": 5,
      "outputs": [
        {
          "output_type": "stream",
          "name": "stdout",
          "text": [
            "<class 'pandas.core.frame.DataFrame'>\n",
            "RangeIndex: 240 entries, 0 to 239\n",
            "Data columns (total 9 columns):\n",
            " #   Column            Non-Null Count  Dtype  \n",
            "---  ------            --------------  -----  \n",
            " 0   Transaction ID    240 non-null    int64  \n",
            " 1   Date              240 non-null    object \n",
            " 2   Product Category  240 non-null    object \n",
            " 3   Product Name      240 non-null    object \n",
            " 4   Units Sold        240 non-null    int64  \n",
            " 5   Unit Price        240 non-null    float64\n",
            " 6   Total Revenue     240 non-null    float64\n",
            " 7   Region            240 non-null    object \n",
            " 8   Payment Method    240 non-null    object \n",
            "dtypes: float64(2), int64(2), object(5)\n",
            "memory usage: 17.0+ KB\n"
          ]
        }
      ]
    },
    {
      "cell_type": "code",
      "source": [
        "#total sales by products\n",
        "total_sales_products = data.groupby(\"Product Category\")[\"Total Revenue\"].sum()\n",
        "total_sales_products"
      ],
      "metadata": {
        "colab": {
          "base_uri": "https://localhost:8080/",
          "height": 304
        },
        "id": "kmC-Q2usRQV5",
        "outputId": "68eb0389-9207-47b6-dcc6-78468fec2431"
      },
      "execution_count": 12,
      "outputs": [
        {
          "output_type": "execute_result",
          "data": {
            "text/plain": [
              "Product Category\n",
              "Beauty Products     2621.90\n",
              "Books               1861.93\n",
              "Clothing            8128.93\n",
              "Electronics        34982.41\n",
              "Home Appliances    18646.16\n",
              "Sports             14326.52\n",
              "Name: Total Revenue, dtype: float64"
            ],
            "text/html": [
              "<div>\n",
              "<style scoped>\n",
              "    .dataframe tbody tr th:only-of-type {\n",
              "        vertical-align: middle;\n",
              "    }\n",
              "\n",
              "    .dataframe tbody tr th {\n",
              "        vertical-align: top;\n",
              "    }\n",
              "\n",
              "    .dataframe thead th {\n",
              "        text-align: right;\n",
              "    }\n",
              "</style>\n",
              "<table border=\"1\" class=\"dataframe\">\n",
              "  <thead>\n",
              "    <tr style=\"text-align: right;\">\n",
              "      <th></th>\n",
              "      <th>Total Revenue</th>\n",
              "    </tr>\n",
              "    <tr>\n",
              "      <th>Product Category</th>\n",
              "      <th></th>\n",
              "    </tr>\n",
              "  </thead>\n",
              "  <tbody>\n",
              "    <tr>\n",
              "      <th>Beauty Products</th>\n",
              "      <td>2621.90</td>\n",
              "    </tr>\n",
              "    <tr>\n",
              "      <th>Books</th>\n",
              "      <td>1861.93</td>\n",
              "    </tr>\n",
              "    <tr>\n",
              "      <th>Clothing</th>\n",
              "      <td>8128.93</td>\n",
              "    </tr>\n",
              "    <tr>\n",
              "      <th>Electronics</th>\n",
              "      <td>34982.41</td>\n",
              "    </tr>\n",
              "    <tr>\n",
              "      <th>Home Appliances</th>\n",
              "      <td>18646.16</td>\n",
              "    </tr>\n",
              "    <tr>\n",
              "      <th>Sports</th>\n",
              "      <td>14326.52</td>\n",
              "    </tr>\n",
              "  </tbody>\n",
              "</table>\n",
              "</div><br><label><b>dtype:</b> float64</label>"
            ]
          },
          "metadata": {},
          "execution_count": 12
        }
      ]
    },
    {
      "cell_type": "code",
      "source": [
        "import matplotlib.pyplot as plt\n",
        "total_sales_products.plot(kind='bar',color='teal')\n",
        "plt.xlabel(\"Product Category\")\n",
        "plt.ylabel(\"Total Revenue Sum\")\n"
      ],
      "metadata": {
        "colab": {
          "base_uri": "https://localhost:8080/",
          "height": 573
        },
        "id": "atP9ohyZSoGi",
        "outputId": "f7438b76-35a3-4cfb-8e3e-186a8ba5eaf2"
      },
      "execution_count": 16,
      "outputs": [
        {
          "output_type": "execute_result",
          "data": {
            "text/plain": [
              "Text(0, 0.5, 'Total Revenue Sum')"
            ]
          },
          "metadata": {},
          "execution_count": 16
        },
        {
          "output_type": "display_data",
          "data": {
            "text/plain": [
              "<Figure size 640x480 with 1 Axes>"
            ],
            "image/png": "[encoded data removed]"
          },
          "metadata": {}
        }
      ]
    },
    {
      "cell_type": "code",
      "source": [
        "## plot sales trend over time\n",
        "plot_sales_trend_over_time=data.groupby(\"Date\")['Total Revenue'].sum()\n",
        "plot_sales_trend_over_time"
      ],
      "metadata": {
        "colab": {
          "base_uri": "https://localhost:8080/",
          "height": 490
        },
        "id": "txmCNdqdTj7E",
        "outputId": "e002ca9d-7688-45ba-d625-4d09300ad3a3"
      },
      "execution_count": 28,
      "outputs": [
        {
          "output_type": "execute_result",
          "data": {
            "text/plain": [
              "Date\n",
              "2024-01-01    1999.98\n",
              "2024-01-02     499.99\n",
              "2024-01-03     209.97\n",
              "2024-01-04      63.96\n",
              "2024-01-05      89.99\n",
              "               ...   \n",
              "2024-08-23     159.99\n",
              "2024-08-24     270.00\n",
              "2024-08-25      32.97\n",
              "2024-08-26      55.00\n",
              "2024-08-27      59.98\n",
              "Name: Total Revenue, Length: 240, dtype: float64"
            ],
            "text/html": [
              "<div>\n",
              "<style scoped>\n",
              "    .dataframe tbody tr th:only-of-type {\n",
              "        vertical-align: middle;\n",
              "    }\n",
              "\n",
              "    .dataframe tbody tr th {\n",
              "        vertical-align: top;\n",
              "    }\n",
              "\n",
              "    .dataframe thead th {\n",
              "        text-align: right;\n",
              "    }\n",
              "</style>\n",
              "<table border=\"1\" class=\"dataframe\">\n",
              "  <thead>\n",
              "    <tr style=\"text-align: right;\">\n",
              "      <th></th>\n",
              "      <th>Total Revenue</th>\n",
              "    </tr>\n",
              "    <tr>\n",
              "      <th>Date</th>\n",
              "      <th></th>\n",
              "    </tr>\n",
              "  </thead>\n",
              "  <tbody>\n",
              "    <tr>\n",
              "      <th>2024-01-01</th>\n",
              "      <td>1999.98</td>\n",
              "    </tr>\n",
              "    <tr>\n",
              "      <th>2024-01-02</th>\n",
              "      <td>499.99</td>\n",
              "    </tr>\n",
              "    <tr>\n",
              "      <th>2024-01-03</th>\n",
              "      <td>209.97</td>\n",
              "    </tr>\n",
              "    <tr>\n",
              "      <th>2024-01-04</th>\n",
              "      <td>63.96</td>\n",
              "    </tr>\n",
              "    <tr>\n",
              "      <th>2024-01-05</th>\n",
              "      <td>89.99</td>\n",
              "    </tr>\n",
              "    <tr>\n",
              "      <th>...</th>\n",
              "      <td>...</td>\n",
              "    </tr>\n",
              "    <tr>\n",
              "      <th>2024-08-23</th>\n",
              "      <td>159.99</td>\n",
              "    </tr>\n",
              "    <tr>\n",
              "      <th>2024-08-24</th>\n",
              "      <td>270.00</td>\n",
              "    </tr>\n",
              "    <tr>\n",
              "      <th>2024-08-25</th>\n",
              "      <td>32.97</td>\n",
              "    </tr>\n",
              "    <tr>\n",
              "      <th>2024-08-26</th>\n",
              "      <td>55.00</td>\n",
              "    </tr>\n",
              "    <tr>\n",
              "      <th>2024-08-27</th>\n",
              "      <td>59.98</td>\n",
              "    </tr>\n",
              "  </tbody>\n",
              "</table>\n",
              "<p>240 rows × 1 columns</p>\n",
              "</div><br><label><b>dtype:</b> float64</label>"
            ]
          },
          "metadata": {},
          "execution_count": 28
        }
      ]
    },
    {
      "cell_type": "code",
      "source": [
        "import matplotlib.pyplot as plt\n",
        "plt.plot(data['Date'],data['Total Revenue'])"
      ],
      "metadata": {
        "colab": {
          "base_uri": "https://localhost:8080/",
          "height": 447
        },
        "id": "Y3gHu9wbUob0",
        "outputId": "a3bf235d-892a-4cb7-be47-953b58c6024d"
      },
      "execution_count": 31,
      "outputs": [
        {
          "output_type": "execute_result",
          "data": {
            "text/plain": [
              "[<matplotlib.lines.Line2D at 0x7c4adb46f550>]"
            ]
          },
          "metadata": {},
          "execution_count": 31
        },
        {
          "output_type": "display_data",
          "data": {
            "text/plain": [
              "<Figure size 640x480 with 1 Axes>"
            ],
            "image/png": "[encoded data removed]"
          },
          "metadata": {}
        }
      ]
    }
  ]
}